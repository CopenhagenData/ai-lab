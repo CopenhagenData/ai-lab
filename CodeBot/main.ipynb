{
 "cells": [
  {
   "cell_type": "code",
   "execution_count": null,
   "metadata": {},
   "outputs": [],
   "source": [
    "%%writefile main.py\n",
    "\n",
    "import os\n",
    "import re\n",
    "from dotenv import load_dotenv\n",
    "import subprocess\n",
    "import sys\n",
    "from util.request_manager import request_manager\n",
    "\n",
    "rm = request_manager()\n",
    "last_request = \"\"\n",
    "\n",
    "while True:\n",
    "  print('Waiting for input...')\n",
    "  request = input()\n",
    "  if request == \"exit\":\n",
    "    break\n",
    "  elif request == \"code\":\n",
    "    print(last_request)\n",
    "    continue\n",
    "\n",
    "  rm.request = request\n",
    "  rm.request_type = 'code'\n",
    "  response = rm.query()\n",
    "  print(\"\\nYour request is being processed...\\n\")\n",
    "  rm.exec_code(response)\n",
    "  last_request = response\n",
    "\n",
    "print(\"Finished...\")"
   ]
  }
 ],
 "metadata": {
  "kernelspec": {
   "display_name": "base",
   "language": "python",
   "name": "python3"
  },
  "language_info": {
   "codemirror_mode": {
    "name": "ipython",
    "version": 3
   },
   "file_extension": ".py",
   "mimetype": "text/x-python",
   "name": "python",
   "nbconvert_exporter": "python",
   "pygments_lexer": "ipython3",
   "version": "3.8.13"
  },
  "orig_nbformat": 4,
  "vscode": {
   "interpreter": {
    "hash": "38cca0c38332a56087b24af0bc80247f4fced29cb4f7f437d91dc159adec9c4e"
   }
  }
 },
 "nbformat": 4,
 "nbformat_minor": 2
}
