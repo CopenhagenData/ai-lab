{
 "cells": [
  {
   "attachments": {},
   "cell_type": "markdown",
   "metadata": {},
   "source": [
    "# Bright Pixel\n",
    "\n",
    "Skriv en tekst, som omsættes til et billede"
   ]
  },
  {
   "attachments": {},
   "cell_type": "markdown",
   "metadata": {},
   "source": [
    "## Opgave 1\n",
    "\n",
    "* Sørg for at de korrekte nøgler er skrevet ind i .env filen.\n",
    "* Indlæs miljøvariable (environment variables).\n"
   ]
  },
  {
   "cell_type": "code",
   "execution_count": null,
   "metadata": {},
   "outputs": [],
   "source": [
    "# Import namespaces\n",
    "from dotenv import load_dotenv\n",
    "import openai\n",
    "import os\n",
    "from uuid import uuid4\n",
    "import urllib.request\n",
    "\n",
    "# Set default save path\n",
    "save_path = \"./images/\" # Ændre denne til den mappe du vil gemme billederne i\n",
    "\n",
    "# Get Configuration Settings\n",
    "load_dotenv()\n",
    "openai_key = os.getenv('<YOUR_OPENAI_KEY>')\n",
    "\n",
    "# Configure openai\n",
    "openai.api_key = openai_key"
   ]
  },
  {
   "attachments": {},
   "cell_type": "markdown",
   "metadata": {},
   "source": [
    "## Opgave 2\n",
    "\n",
    "* Gennemlæs koden nedenunder, som kalder DALL-E API'et\n",
    "* Tjek response-objektet. Undersøg de andre parametre i response-objektet\n",
    "* Se hvor billedfilerne gemmes\n",
    "    * Tjek navngivningen for billedet - hvorfor anvendes uuid?\n",
    "* Test koden\n",
    "* Justér på parametrene"
   ]
  },
  {
   "cell_type": "code",
   "execution_count": null,
   "metadata": {},
   "outputs": [],
   "source": [
    "# Create image function\n",
    "def create_image(request, save=True):\n",
    "    response = openai.Image.create(\n",
    "        prompt=request,\n",
    "        n=1,\n",
    "        size=\"1024x1024\"\n",
    "    )\n",
    "    image_url = response['data'][0]['url']\n",
    "    full_save_path = save_path + f\"openai_{uuid4()}.png\"\n",
    "    urllib.request.urlretrieve(image_url, full_save_path)\n",
    "    print(f\"\\nImage created successfully! Saved to: {full_save_path}\\n\")\n",
    "    return full_save_path"
   ]
  },
  {
   "cell_type": "code",
   "execution_count": null,
   "metadata": {},
   "outputs": [],
   "source": [
    "# Test koden\n",
    "command = \"A dog with a red collar is running through a field.\"\n",
    "create_image(command)"
   ]
  },
  {
   "attachments": {},
   "cell_type": "markdown",
   "metadata": {},
   "source": [
    "## Opgave 3\n",
    "\n",
    "* Gennemlæse koden nedenunder, hvor al ovenstående kode samles"
   ]
  },
  {
   "cell_type": "code",
   "execution_count": null,
   "metadata": {},
   "outputs": [],
   "source": [
    "# Main function\n",
    "def main():\n",
    "    while True:\n",
    "        print(\"Waiting for user input (write 'quit' to exit)...\")\n",
    "        request = input()\n",
    "    \n",
    "        if request == \"quit\":\n",
    "            print(\"Exiting...\")\n",
    "            break\n",
    "\n",
    "        # Create image\n",
    "        create_image(request)  \n",
    "\n",
    "# Run main\n",
    "if __name__ == \"__main__\":\n",
    "    main()"
   ]
  },
  {
   "attachments": {},
   "cell_type": "markdown",
   "metadata": {},
   "source": [
    "## Opgave 4\n",
    "\n",
    "* Saml al kode i én fil\n",
    "* Skriv filen til main.py\n",
    "* Brug en terminal til at køre filen"
   ]
  },
  {
   "cell_type": "code",
   "execution_count": null,
   "metadata": {},
   "outputs": [],
   "source": [
    "# %%writefile main.py\n",
    "# Sammensæt selv koden"
   ]
  },
  {
   "attachments": {},
   "cell_type": "markdown",
   "metadata": {},
   "source": [
    "# Ekstra opgave\n",
    "\n",
    "* Brug Azure Computer Vision til at analysere billederne"
   ]
  },
  {
   "attachments": {},
   "cell_type": "markdown",
   "metadata": {},
   "source": [
    "# Løsningsforslag"
   ]
  },
  {
   "cell_type": "code",
   "execution_count": null,
   "metadata": {},
   "outputs": [],
   "source": [
    "# %%writefile main.py\n",
    "\n",
    "# Import namespaces\n",
    "from dotenv import load_dotenv\n",
    "import openai\n",
    "import os\n",
    "from uuid import uuid4\n",
    "import urllib.request\n",
    "\n",
    "# Set default save path\n",
    "save_path = \"./images/\"\n",
    "\n",
    "# Get Configuration Settings\n",
    "load_dotenv()\n",
    "openai_key = os.getenv('OPENAI_API_KEY')\n",
    "\n",
    "# Configure openai\n",
    "openai.api_key = openai_key\n",
    "\n",
    "# Create image function\n",
    "def create_image(request, save=True):\n",
    "    response = openai.Image.create(\n",
    "        prompt=request,\n",
    "        n=1,\n",
    "        size=\"1024x1024\"\n",
    "    )\n",
    "    image_url = response['data'][0]['url']\n",
    "    full_save_path = save_path + f\"openai_{uuid4()}.png\"\n",
    "    urllib.request.urlretrieve(image_url, full_save_path)\n",
    "    print(f\"\\nImage created successfully! Saved to: {full_save_path}\\n\")\n",
    "    return full_save_path\n",
    "\n",
    "# Main function\n",
    "def main():\n",
    "    while True:\n",
    "        print(\"Waiting for user input (write 'quit' to exit)...\")\n",
    "        request = input()\n",
    "    \n",
    "        if request == \"quit\":\n",
    "            print(\"Exiting...\")\n",
    "            break\n",
    "\n",
    "        # Create image\n",
    "        create_image(request)  \n",
    "\n",
    "# Run main\n",
    "if __name__ == \"__main__\":\n",
    "    main()"
   ]
  }
 ],
 "metadata": {
  "kernelspec": {
   "display_name": "base",
   "language": "python",
   "name": "python3"
  },
  "language_info": {
   "codemirror_mode": {
    "name": "ipython",
    "version": 3
   },
   "file_extension": ".py",
   "mimetype": "text/x-python",
   "name": "python",
   "nbconvert_exporter": "python",
   "pygments_lexer": "ipython3",
   "version": "3.8.13"
  },
  "orig_nbformat": 4
 },
 "nbformat": 4,
 "nbformat_minor": 2
}
