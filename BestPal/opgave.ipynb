{
 "cells": [
  {
   "attachments": {},
   "cell_type": "markdown",
   "metadata": {},
   "source": [
    "# Best Pal\n",
    "Best pal is chatbot you can talk with like Siri.\n"
   ]
  },
  {
   "attachments": {},
   "cell_type": "markdown",
   "metadata": {},
   "source": [
    "## Opgave 1\n",
    "\n",
    "* Sørg for at de korrekte nøgler er skrevet ind i .env filen.\n",
    "* Indlæs miljøvariable (environment variables).\n"
   ]
  },
  {
   "cell_type": "code",
   "execution_count": null,
   "metadata": {},
   "outputs": [],
   "source": [
    "# Import namespaces\n",
    "from dotenv import load_dotenv\n",
    "from datetime import datetime\n",
    "import os\n",
    "import openai\n",
    "import time\n",
    "import azure.cognitiveservices.speech as speech_sdk\n",
    "\n",
    "# Get Configuration Settings\n",
    "load_dotenv()\n",
    "cog_key = os.getenv('AZURE_COG_KEY')\n",
    "cog_region = os.getenv('AZURE_COG_REGION')\n",
    "openai_key = os.getenv('OPENAI_API_KEY')\n",
    "\n",
    "# Configure speech service\n",
    "speech_config = speech_sdk.SpeechConfig(cog_key, cog_region)\n",
    "\n",
    "# Configure speech synthesis\n",
    "speech_synthesizer = speech_sdk.SpeechSynthesizer(speech_config)\n",
    "\n",
    "# Configure openai\n",
    "openai.api_key = openai_key"
   ]
  },
  {
   "attachments": {},
   "cell_type": "markdown",
   "metadata": {},
   "source": [
    "## Opgave 2\n",
    "\n",
    "* Evaluér koden nedenunder, som optager lyd, og generer tekst\n",
    "* Test koden\n"
   ]
  },
  {
   "cell_type": "code",
   "execution_count": null,
   "metadata": {},
   "outputs": [],
   "source": [
    "def transcribe_command():\n",
    "    command = ''\n",
    "\n",
    "    # Configure speech recognition\n",
    "    audio_config = speech_sdk.AudioConfig(use_default_microphone=True)\n",
    "    speech_recognizer = speech_sdk.SpeechRecognizer(speech_config, audio_config)\n",
    "    print('Speak now... (say quit to exit)') # Ændre input linjen hvis du vil have en anden besked\n",
    "\n",
    "     # Process speech input\n",
    "    speech = speech_recognizer.recognize_once_async().get()\n",
    "    if speech.reason == speech_sdk.ResultReason.RecognizedSpeech:\n",
    "        command = speech.text\n",
    "        print(command)\n",
    "    else:\n",
    "        print(speech.reason)\n",
    "        if speech.reason == speech_sdk.ResultReason.Canceled:\n",
    "            cancellation = speech.cancellation_details\n",
    "            print(cancellation.reason)\n",
    "            print(cancellation.error_details)\n",
    "\n",
    "    # Return the command\n",
    "    return command"
   ]
  },
  {
   "cell_type": "code",
   "execution_count": null,
   "metadata": {},
   "outputs": [],
   "source": [
    "# Test koden\n",
    "transcribed_text = transcribe_command()\n",
    "print(input)"
   ]
  },
  {
   "attachments": {},
   "cell_type": "markdown",
   "metadata": {},
   "source": [
    "## Opgave 3\n",
    "\n",
    "* Evaluér koden nedenunder, som kalder OpenAI's API\n",
    "* Justér parametrene, og evaluér hvad de gør\n",
    "* Identificér i response-objektet svaret, og retunér kun svaret."
   ]
  },
  {
   "cell_type": "code",
   "execution_count": null,
   "metadata": {},
   "outputs": [],
   "source": [
    "# Function to call openai \n",
    "def call_openai(command):\n",
    "\n",
    "    # Query openai\n",
    "    # Adjust temperature, max_tokens, top_p, frequency_penalty, presence_penalty\n",
    "    response = openai.Completion.create(\n",
    "        model=\"text-davinci-003\",\n",
    "        prompt=command,\n",
    "        temperature=0.9,\n",
    "        max_tokens=500,\n",
    "        top_p=1,\n",
    "        frequency_penalty=0,\n",
    "        presence_penalty=0.6,\n",
    "    )\n",
    "\n",
    "    return response"
   ]
  },
  {
   "cell_type": "code",
   "execution_count": null,
   "metadata": {},
   "outputs": [],
   "source": [
    "# Test koden\n",
    "command = \"What is the little mermaid?\"\n",
    "response = call_openai(command)\n",
    "print(response)"
   ]
  },
  {
   "attachments": {},
   "cell_type": "markdown",
   "metadata": {},
   "source": [
    "## Opgave 4\n",
    "\n",
    "* Evaluér koden nedenunder, som kan oplæse en tekst\n",
    "* Test koden\n",
    "* Prøv forskellige voices (eksempler angivet, find flere online)"
   ]
  },
  {
   "cell_type": "code",
   "execution_count": null,
   "metadata": {},
   "outputs": [],
   "source": [
    "# Function to read aloud text\n",
    "def read_aloud(read_aloud_text):\n",
    "    \n",
    "    # Print the response\n",
    "    print(read_aloud_text)\n",
    "\n",
    "    # Abbi,Alfie,Bella,Elliot,Ethan,Hollie,Libby,Maisie,Noah,Oliver,Olivia,Ryan,Sonia,Thomas\n",
    "    voice = \"en-GB-LibbyNeural\"\n",
    "    \n",
    "    # Synthesize spoken output\n",
    "    responseSsml = f\" \\\n",
    "        <speak version='1.0' xmlns='http://www.w3.org/2001/10/synthesis' xml:lang='en-US'> \\\n",
    "            <voice name='{voice}'> \\\n",
    "                {read_aloud_text} \\\n",
    "            </voice> \\\n",
    "        </speak>\"\n",
    "    speak = speech_synthesizer.speak_ssml_async(responseSsml).get()\n",
    "    if speak.reason != speech_sdk.ResultReason.SynthesizingAudioCompleted:\n",
    "        print(speak.reason)"
   ]
  },
  {
   "cell_type": "code",
   "execution_count": null,
   "metadata": {},
   "outputs": [],
   "source": [
    "# Test koden\n",
    "read_aloud_text = \"This is a test\"\n",
    "read_aloud(read_aloud_text)"
   ]
  },
  {
   "attachments": {},
   "cell_type": "markdown",
   "metadata": {},
   "source": [
    "## Opgave 5\n",
    "\n",
    "* Evaluér koden nedenunder, som samler koden ovenfor\n",
    "* I koden oprettes et uendelig loop\n",
    "* Find forskellige måder, at der kan besvares andre spørgsmål, som OpenAI ikke kan besvare\n",
    "    * Et eksempel er hvad klokken er\n"
   ]
  },
  {
   "cell_type": "code",
   "execution_count": null,
   "metadata": {},
   "outputs": [],
   "source": [
    "# Main function\n",
    "def main():\n",
    "    while True:         \n",
    "        # Get spoken input\n",
    "        command = transcribe_command()\n",
    "\n",
    "        # Handle no input\n",
    "        if command.lower() == '':\n",
    "            time.sleep(3)\n",
    "            print('Waiting 2 seconds...')\n",
    "            continue\n",
    "        \n",
    "        # Handle quit\n",
    "        elif command.lower() == 'quit.':\n",
    "            break\n",
    "        \n",
    "        # Handle time case (specific phrase)\n",
    "        elif command.lower() == 'what time is it?':\n",
    "            now = datetime.now()\n",
    "            read_aloud_text = 'The time is {}:{:02d}'.format(now.hour,now.minute)\n",
    "            read_aloud(read_aloud_text)\n",
    "\n",
    "        # Handle general case \n",
    "        else:\n",
    "            answer = call_openai(command.lower())\n",
    "            read_aloud(answer)\n",
    "\n",
    "\n",
    "# Run the main function\n",
    "if __name__ == \"__main__\":\n",
    "    main()"
   ]
  },
  {
   "attachments": {},
   "cell_type": "markdown",
   "metadata": {},
   "source": [
    "## Opgave 6\n",
    "\n",
    "* Saml al kode i én fil\n",
    "* Skriv filen til main.py\n",
    "* Brug en terminal til at køre filen"
   ]
  },
  {
   "cell_type": "code",
   "execution_count": null,
   "metadata": {},
   "outputs": [],
   "source": [
    "# %%writefile main.py\n",
    "# Sammensæt selv koden"
   ]
  },
  {
   "attachments": {},
   "cell_type": "markdown",
   "metadata": {},
   "source": [
    "# Ekstra opgaver\n",
    "\n",
    "* Sørg for at du kan afbryde modellen, mens den svarer\n",
    "* Sørg for at den kan svare på spørgsmål, som ikke er inkluderet i dens datasæt?"
   ]
  },
  {
   "attachments": {},
   "cell_type": "markdown",
   "metadata": {},
   "source": [
    "## Løsningsforslag"
   ]
  },
  {
   "cell_type": "code",
   "execution_count": null,
   "metadata": {},
   "outputs": [],
   "source": [
    "%%writefile main.py\n",
    "# The above command writes the programme to a file called main.py\n",
    "\n",
    "# Import namespaces\n",
    "from dotenv import load_dotenv\n",
    "from datetime import datetime\n",
    "import os\n",
    "import openai\n",
    "import time\n",
    "import azure.cognitiveservices.speech as speech_sdk\n",
    "\n",
    "# Get Configuration Settings\n",
    "load_dotenv()\n",
    "cog_key = os.getenv('AZURE_COG_KEY')\n",
    "cog_region = os.getenv('AZURE_COG_REGION')\n",
    "openai_key = os.getenv('OPENAI_API_KEY')\n",
    "\n",
    "# Configure speech service\n",
    "speech_config = speech_sdk.SpeechConfig(cog_key, cog_region)\n",
    "\n",
    "# Configure speech synthesis\n",
    "speech_config.speech_synthesis_voice_name = \"en-GB-LibbyNeural\"\n",
    "speech_synthesizer = speech_sdk.SpeechSynthesizer(speech_config)\n",
    "\n",
    "# Configure openai\n",
    "openai.api_key = openai_key\n",
    "\n",
    "# Function to transcribe speech to text\n",
    "def transcribe_command():\n",
    "    command = ''\n",
    "\n",
    "    # Configure speech recognition\n",
    "    audio_config = speech_sdk.AudioConfig(use_default_microphone=True)\n",
    "    speech_recognizer = speech_sdk.SpeechRecognizer(speech_config, audio_config)\n",
    "    print('Speak now... (say quit to exit)')\n",
    "\n",
    "     # Process speech input\n",
    "    speech = speech_recognizer.recognize_once_async().get()\n",
    "    if speech.reason == speech_sdk.ResultReason.RecognizedSpeech:\n",
    "        command = speech.text\n",
    "        print(command)\n",
    "    else:\n",
    "        print(speech.reason)\n",
    "        if speech.reason == speech_sdk.ResultReason.Canceled:\n",
    "            cancellation = speech.cancellation_details\n",
    "            print(cancellation.reason)\n",
    "            print(cancellation.error_details)\n",
    "\n",
    "    # Return the command\n",
    "    return command\n",
    "\n",
    "# Function to call openai \n",
    "def call_openai(command):\n",
    "\n",
    "    # Query openai\n",
    "    # Adjust temperature, max_tokens, top_p, frequency_penalty, presence_penalty\n",
    "    response = openai.Completion.create(\n",
    "        model=\"text-davinci-003\",\n",
    "        prompt=command,\n",
    "        temperature=0.9,\n",
    "        max_tokens=500,\n",
    "        top_p=1,\n",
    "        frequency_penalty=0,\n",
    "        presence_penalty=0.6,\n",
    "    )\n",
    "\n",
    "    # Print and read aloud answer from openai\n",
    "    answer = response['choices'][0]['text']\n",
    "    return answer\n",
    "\n",
    "# Function to read aloud text\n",
    "def read_aloud(read_aloud_text):\n",
    "    # Print the response\n",
    "    print(read_aloud_text)\n",
    "\n",
    "    # Abbi,Alfie,Bella,Elliot,Ethan,Hollie,Libby,Maisie,Noah,Oliver,Olivia,Ryan,Sonia,Thomas\n",
    "    voice = \"en-GB-LibbyNeural\"\n",
    "    \n",
    "    # Synthesize spoken output\n",
    "    responseSsml = f\" \\\n",
    "        <speak version='1.0' xmlns='http://www.w3.org/2001/10/synthesis' xml:lang='en-US'> \\\n",
    "            <voice name='{voice}'> \\\n",
    "                {read_aloud_text} \\\n",
    "            </voice> \\\n",
    "        </speak>\"\n",
    "    speak = speech_synthesizer.speak_ssml_async(responseSsml).get()\n",
    "    if speak.reason != speech_sdk.ResultReason.SynthesizingAudioCompleted:\n",
    "        print(speak.reason)\n",
    "  \n",
    "# Main function\n",
    "def main():\n",
    "    while True:        \n",
    "        # Get spoken input\n",
    "        command = transcribe_command()\n",
    "\n",
    "        # Handle no input\n",
    "        if command.lower() == '':\n",
    "            time.sleep(3)\n",
    "            print('Waiting 2 seconds...')\n",
    "            continue\n",
    "        \n",
    "        # Handle quit\n",
    "        elif command.lower() == 'quit.':\n",
    "            break  \n",
    "        \n",
    "        # Handle time case (specific phrase)\n",
    "        elif command.lower() == 'what time is it?':\n",
    "            now = datetime.now()\n",
    "            read_aloud_text = 'The time is {}:{:02d}'.format(now.hour,now.minute)\n",
    "            read_aloud(read_aloud_text)\n",
    "\n",
    "        # Handle general case \n",
    "        else:\n",
    "            answer = call_openai(command.lower())\n",
    "            read_aloud(answer)\n",
    "\n",
    "\n",
    "# Run the main function\n",
    "if __name__ == \"__main__\":\n",
    "    main()"
   ]
  }
 ],
 "metadata": {
  "kernelspec": {
   "display_name": "base",
   "language": "python",
   "name": "python3"
  },
  "language_info": {
   "codemirror_mode": {
    "name": "ipython",
    "version": 3
   },
   "file_extension": ".py",
   "mimetype": "text/x-python",
   "name": "python",
   "nbconvert_exporter": "python",
   "pygments_lexer": "ipython3",
   "version": "3.9.7"
  },
  "orig_nbformat": 4
 },
 "nbformat": 4,
 "nbformat_minor": 2
}
