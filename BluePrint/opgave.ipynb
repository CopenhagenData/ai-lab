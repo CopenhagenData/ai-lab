{
 "cells": [
  {
   "attachments": {},
   "cell_type": "markdown",
   "metadata": {},
   "source": [
    "# Blue Print\n",
    "\n",
    "I dette opgavesæt skal du udvikle en robot, som kan skrive dokumentation til kode.\n"
   ]
  },
  {
   "attachments": {},
   "cell_type": "markdown",
   "metadata": {},
   "source": [
    "## Opgave 1\n",
    "\n",
    "* Sørg for at de korrekte nøgler er skrevet ind i .env filen.\n",
    "* Indlæs miljøvariable (environment variables)."
   ]
  },
  {
   "cell_type": "code",
   "execution_count": null,
   "metadata": {},
   "outputs": [],
   "source": [
    "# Import namespaces\n",
    "from dotenv import load_dotenv\n",
    "import os\n",
    "import openai\n",
    "from glob import glob\n",
    "\n",
    "# Get Configuration Settings\n",
    "load_dotenv()\n",
    "openai_key = os.getenv('OPENAI_API_KEY')\n",
    "\n",
    "# Configure OpenAI\n",
    "openai.api_key = openai_key\n",
    "\n",
    "# Input folder to analyse\n",
    "# Indsæt stien til dit repository, hvortil du vil genererer dokumentation\n",
    "input_folder_path = '<INDSÆT MAPPE>' \n",
    "\n",
    "# Save path\n",
    "# Indsæt stien, hvor du vil gemme dokumentationen\n",
    "save_file_path = '<INDSÆT MAPPE>' "
   ]
  },
  {
   "attachments": {},
   "cell_type": "markdown",
   "metadata": {},
   "source": [
    "## Opgave 2\n",
    "\n",
    "* Evaluér de to funktioner nedenfor\n",
    "* Brug glob til at finde alle filer i mappen, som der skal udføres dokumentation\n",
    "* Filtrér eventuelt nogen filtyper fra\n",
    "* Indlæs en fils indhold til en streng"
   ]
  },
  {
   "cell_type": "code",
   "execution_count": null,
   "metadata": {},
   "outputs": [],
   "source": [
    "# Get the list of files in the folder\n",
    "def get_files_list(input_folder_path):\n",
    "    return glob(input_folder_path + \"/**/*.py\", recursive=True)\n",
    "\n",
    "# Get the content of a file\n",
    "def get_file_content(file_path):\n",
    "    with open(file_path, \"r\") as f:\n",
    "        return f.read()"
   ]
  },
  {
   "attachments": {},
   "cell_type": "markdown",
   "metadata": {},
   "source": [
    "## Opgave 3\n",
    "\n",
    "* Gennemlæs og forstå koden nedenfor\n",
    "* Skriv kommandoer til at få \n",
    "* Angiv parametre til modellen\n",
    "* Angiv en kommando, som indeholder indholdet fra en fil, samt en instruks, til hvordan der skal dokumenteres\n",
    "    * Skriv en kommando, som giver en generel beskrivelse\n",
    "    * Skriv en kommando, som giver en tabel med alle funktioner i koden\n",
    "* Kald OpenAI's service\n"
   ]
  },
  {
   "cell_type": "code",
   "execution_count": null,
   "metadata": {},
   "outputs": [],
   "source": [
    "def generate_file_documentation(file, style='description'):\n",
    "    file_content = get_file_content(file)\n",
    "\n",
    "    # Skriv kommandoer til at generere dokumentation, \n",
    "    if style == 'table': # Skriv en kommando til at få en tabel af filens funktioner\n",
    "        command = f\"<SRKIV KOMMANDO> + {file_content}\"\n",
    "    else: # Skriv en kommando til at få en generel beskrivelse af filen\n",
    "        command = f\"<SRKIV KOMMANDO> + {file_content}\"\n",
    "    \n",
    "    # Justér parametre\n",
    "    response = openai.Completion.create(\n",
    "        model=\"text-davinci-003\",\n",
    "        prompt= command,\n",
    "        temperature=0.5,\n",
    "        max_tokens=500,\n",
    "        top_p=1,\n",
    "        frequency_penalty=0,\n",
    "        presence_penalty=0.6,\n",
    "    )\n",
    "    return response['choices'][0]['text']\n",
    "\n",
    "# Test funktionen\n",
    "files = get_files_list(input_folder_path) # Find alle filer i mappen\n",
    "file = files[0] # Tag første fil\n",
    "print(f\"Selected file: {file}\")\n",
    "\n",
    "# Generer dokumentation\n",
    "file_documentation = generate_file_documentation(file, style='description')\n",
    "file_documentation_tables = generate_file_documentation(file, style='table')\n",
    "\n",
    "print(file_documentation)\n",
    "print(file_documentation_tables)"
   ]
  },
  {
   "cell_type": "code",
   "execution_count": null,
   "metadata": {},
   "outputs": [],
   "source": [
    "### Løsningseksempler (skriv gerne dine egne instrukser)\n",
    "\n",
    "if style == 'table':\n",
    "    command = f\"\"\"For the following code: \\n {file_content} \\n\n",
    "                Provide a table in markdown of each function in the code \n",
    "                with four columns: the function name, input, \n",
    "                output, and a description.\\n\"\"\"\n",
    "else:\n",
    "    command = f\"Provide a short description of this code:\\n {file_content} \\n\""
   ]
  },
  {
   "attachments": {},
   "cell_type": "markdown",
   "metadata": {},
   "source": [
    "## Opgave 4\n",
    "\n",
    "* Gennemlæs og forstå koden nedenfor\n",
    "* Bemærk at al dokumentation indlæses i samme fil"
   ]
  },
  {
   "cell_type": "code",
   "execution_count": null,
   "metadata": {},
   "outputs": [],
   "source": [
    "# Get the documentation for each file\n",
    "def create_file_documentation(files_list):\n",
    "    files_documentation = \"\"\n",
    "    for file in files_list:\n",
    "        print(\"Analysing file: \" + file)\n",
    "\n",
    "        title = \"# Documentation for \" + file + \"\\n\"\n",
    "        subtitle1 = \"\\n## Description\\n\"\n",
    "        body1 = generate_file_documentation(file, style='description')\n",
    "\n",
    "        subtitle2 = \"\\n## Table\\n\"\n",
    "        body2 = generate_file_documentation(file, style='table')\n",
    "                \n",
    "        files_documentation += title + subtitle1 + body1 + \"\\n\" + subtitle2 + body2 + \"\\n\\n\"\n",
    "    \n",
    "    return files_documentation"
   ]
  },
  {
   "attachments": {},
   "cell_type": "markdown",
   "metadata": {},
   "source": [
    "## Opgave 5\n",
    "\n",
    "* Gennemlæs og forstå koden nedenfor\n",
    "* Angiv stien, hvor filen skal gemmes\n"
   ]
  },
  {
   "cell_type": "code",
   "execution_count": null,
   "metadata": {},
   "outputs": [],
   "source": [
    "# Write the documentation to a file\n",
    "def save_file_documentation(files_documentation):\n",
    "    save_files_path = \"<FULL PATH TO FILE>\" # Indsæt stien til filen, hvor du vil gemme dokumentationen\n",
    "    with open(save_files_path, \"w\", encoding=\"utf-8\") as fs:\n",
    "        fs.write(files_documentation)"
   ]
  },
  {
   "attachments": {},
   "cell_type": "markdown",
   "metadata": {},
   "source": [
    "## Opgave 6\n",
    "\n",
    "* Evaluér funktionen under, som sammensætter al kode"
   ]
  },
  {
   "cell_type": "code",
   "execution_count": null,
   "metadata": {},
   "outputs": [],
   "source": [
    "# Main function\n",
    "def main():\n",
    "    files_list = get_files_list(input_folder_path)\n",
    "    files_docuemntation = create_file_documentation(files_list)\n",
    "    save_file_documentation(files_docuemntation)\n",
    "\n",
    "# Run the main function\n",
    "if __name__ == \"__main__\":\n",
    "    main()"
   ]
  },
  {
   "attachments": {},
   "cell_type": "markdown",
   "metadata": {},
   "source": [
    "## Opgave 7\n",
    "\n",
    "* Saml al kode i én fil\n",
    "* Skriv filen til main.py\n",
    "* Brug en terminal til at køre filen"
   ]
  },
  {
   "cell_type": "code",
   "execution_count": null,
   "metadata": {},
   "outputs": [],
   "source": [
    "# %%writefile main.py\n",
    "# Sammensæt selv koden"
   ]
  },
  {
   "attachments": {},
   "cell_type": "markdown",
   "metadata": {},
   "source": [
    "## Ekstra opgave\n",
    "\n",
    "* Lav yml fil, som automatisk kan dokumenterer kode når det releases i en DevOps pipeline"
   ]
  },
  {
   "attachments": {},
   "cell_type": "markdown",
   "metadata": {},
   "source": [
    "# Løsningsforslag"
   ]
  },
  {
   "cell_type": "code",
   "execution_count": null,
   "metadata": {},
   "outputs": [],
   "source": [
    "# %%writefile main.py\n",
    "# The above command writes the programme to a file called main.py\n",
    "\n",
    "# Import namespaces\n",
    "from dotenv import load_dotenv\n",
    "import os\n",
    "import openai\n",
    "from glob import glob\n",
    "\n",
    "# Get Configuration Settings\n",
    "load_dotenv()\n",
    "cog_key = os.getenv('AZURE_COG_KEY')\n",
    "cog_region = os.getenv('AZURE_COG_REGION')\n",
    "openai_key = os.getenv('OPENAI_API_KEY')\n",
    "\n",
    "# Configure OpenAI\n",
    "openai.api_key = openai_key\n",
    "\n",
    "# Input folder to analyse\n",
    "input_folder_path = input(\"Enter the path to the folder to analyse: \")\n",
    "if input_folder_path == \"\":\n",
    "    input_folder_path = \"./\"\n",
    "\n",
    "# Save path\n",
    "save_file_path = './documentation/'\n",
    "\n",
    "# Get the list of files in the folder\n",
    "def get_files_list(input_folder_path):\n",
    "    return glob(input_folder_path + \"/**/*.py\", recursive=True)\n",
    "\n",
    "# Get the content of a file\n",
    "def get_file_content(file_path):\n",
    "    with open(file_path, \"r\") as f:\n",
    "        return f.read()\n",
    "\n",
    "# Get the documentation for a file using OpenAI\n",
    "def generate_file_documentation(file, style='description'):\n",
    "    file_content = get_file_content(file)\n",
    "    command = ''\n",
    "\n",
    "    if style == 'table':\n",
    "        command = f\"\"\"For the following code: \\n {file_content} \\n\n",
    "                    Provide a table in markdown of each function in the code \n",
    "                    with four columns: the function name, input, \n",
    "                    output, and a description.\\n\"\"\"\n",
    "    else:\n",
    "        command = f\"Provide a short description of this code:\\n {file_content} \\n\"\n",
    "    \n",
    "    \n",
    "    response = openai.Completion.create(\n",
    "        model=\"text-davinci-003\",\n",
    "        prompt= command,\n",
    "        temperature=0.5,\n",
    "        max_tokens=500,\n",
    "        top_p=1,\n",
    "        frequency_penalty=0,\n",
    "        presence_penalty=0.6,\n",
    "    )\n",
    "    return response['choices'][0]['text']\n",
    "\n",
    "# Get the documentation for each file\n",
    "def create_file_documentation(files_list):\n",
    "    files_docuemntation = \"\"\n",
    "    for file in files_list:\n",
    "        print(\"Analysing file: \" + file)\n",
    "\n",
    "        title = \"# Documentation for \" + file + \"\\n\"\n",
    "        subtitle1 = \"\\n## Description\\n\"\n",
    "        body1 = generate_file_documentation(file, style='description')\n",
    "\n",
    "        subtitle2 = \"\\n## Table\\n\"\n",
    "        body2 = generate_file_documentation(file, style='table')\n",
    "                \n",
    "        files_docuemntation += title + subtitle1 + body1 + \"\\n\" + subtitle2 + body2 + \"\\n\\n\"\n",
    "    \n",
    "    return files_docuemntation\n",
    "\n",
    "# Write the documentation to a file\n",
    "def save_file_documentation(files_docuemntation):\n",
    "    with open(save_file_path + \"documentation.md\", \"w\", encoding=\"utf-8\") as fs:\n",
    "        fs.write(files_docuemntation)\n",
    "\n",
    "# Main function\n",
    "def main():\n",
    "    files_list = get_files_list(input_folder_path)\n",
    "    files_docuemntation = create_file_documentation(files_list)\n",
    "    save_file_documentation(files_docuemntation)\n",
    "\n",
    "# Run the main function\n",
    "if __name__ == \"__main__\":\n",
    "    main()"
   ]
  }
 ],
 "metadata": {
  "kernelspec": {
   "display_name": "base",
   "language": "python",
   "name": "python3"
  },
  "language_info": {
   "codemirror_mode": {
    "name": "ipython",
    "version": 3
   },
   "file_extension": ".py",
   "mimetype": "text/x-python",
   "name": "python",
   "nbconvert_exporter": "python",
   "pygments_lexer": "ipython3",
   "version": "3.8.13"
  },
  "orig_nbformat": 4
 },
 "nbformat": 4,
 "nbformat_minor": 2
}
